{
 "cells": [
  {
   "cell_type": "markdown",
   "id": "94025e54",
   "metadata": {},
   "source": [
    "# MNIST Classification Example Using NPDL Library"
   ]
  },
  {
   "cell_type": "markdown",
   "id": "d3608abf",
   "metadata": {},
   "source": [
    "## Importing Libraries"
   ]
  },
  {
   "cell_type": "code",
   "execution_count": 1,
   "id": "259a5785",
   "metadata": {},
   "outputs": [],
   "source": [
    "# General Imports\n",
    "import numpy as np\n",
    "import matplotlib.pyplot as plt\n",
    "import random\n",
    "from tqdm import tqdm\n",
    "# Local Imports\n",
    "from npdl.nn.activations import ReLU, Softmax\n",
    "from npdl.nn.losses import CCELoss\n",
    "from npdl.nn.optimizers import Adam\n",
    "from npdl.nn.layers import Linear, Conv2D, \\\n",
    "    Dropout, BatchNorm1D, BatchNorm2D, MaxPool2D, Flatten\n",
    "from npdl.nn.models import Sequential\n",
    "from npdl.datasets import mnist"
   ]
  },
  {
   "cell_type": "markdown",
   "id": "f18f3a41",
   "metadata": {},
   "source": [
    "## Loading MNIST data"
   ]
  },
  {
   "cell_type": "code",
   "execution_count": 2,
   "id": "a1cd3da3",
   "metadata": {},
   "outputs": [],
   "source": [
    "X_train, y_train, X_test, y_test = mnist.load_data('./data', download = False)"
   ]
  },
  {
   "cell_type": "markdown",
   "id": "d8ec35dd",
   "metadata": {},
   "source": [
    "# Using Full Connected Layers Only"
   ]
  },
  {
   "cell_type": "markdown",
   "id": "f677a574",
   "metadata": {},
   "source": [
    "## Data Preprocessing"
   ]
  },
  {
   "cell_type": "code",
   "execution_count": 3,
   "id": "20f0a8da",
   "metadata": {},
   "outputs": [],
   "source": [
    "X_train = X_train.reshape(-1, 28 * 28).astype('float64') # Reshaping data to (N, k) for Linear layers\n",
    "X_test = X_test.reshape(-1, 28 * 28).astype('float64')\n",
    "y_train = np.eye(10)[y_train].reshape(-1, 10) # One hot encoding the target values\n",
    "y_test = np.eye(10)[y_test].reshape(-1, 10)\n",
    "\n",
    "# Normalizing pixel data between 0 and 1\n",
    "X_train /= 255.\n",
    "X_test /= 255."
   ]
  },
  {
   "cell_type": "code",
   "execution_count": 4,
   "id": "b07d5d0d",
   "metadata": {},
   "outputs": [],
   "source": [
    "# Function that makes batches given training/testing data and labels\n",
    "def make_batches(X, y, batch_size):\n",
    "    assert X.shape[0] == y.shape[0]\n",
    "    \n",
    "    n_examples = X.shape[0]\n",
    "    n_batches = n_examples // batch_size\n",
    "    \n",
    "    if n_batches * batch_size < n_examples:\n",
    "        n_batches += 1\n",
    "    \n",
    "    resX, resY = [], []\n",
    "    for batch in range(n_batches):\n",
    "        batch_X = X[batch * batch_size :(batch+1) * batch_size]\n",
    "        batch_y = y[batch * batch_size : (batch+1) * batch_size]\n",
    "        \n",
    "        resX.append(batch_X)\n",
    "        resY.append(batch_y)\n",
    "    \n",
    "    return resX, resY"
   ]
  },
  {
   "cell_type": "code",
   "execution_count": 5,
   "id": "8ad8666e",
   "metadata": {},
   "outputs": [],
   "source": [
    "BATCH_SIZE = 32\n",
    "batchesX_train, batchesY_train = make_batches(X_train, y_train, batch_size = BATCH_SIZE)\n",
    "batchesX_test, batchesY_test = make_batches(X_test, y_test, batch_size = BATCH_SIZE)"
   ]
  },
  {
   "cell_type": "markdown",
   "id": "174fa330",
   "metadata": {},
   "source": [
    "## Model Development and Training"
   ]
  },
  {
   "cell_type": "code",
   "execution_count": 6,
   "id": "83ff2e2d",
   "metadata": {},
   "outputs": [],
   "source": [
    "epochs = 8\n",
    "loss_fn = CCELoss()\n",
    "optim_fn = Adam(lr = 1e-3)\n",
    "\n",
    "model = Sequential()\n",
    "\n",
    "model.add(Linear(784, 64, init = 'he_uniform'))\n",
    "model.add(BatchNorm1D(64))\n",
    "model.add(ReLU())\n",
    "\n",
    "model.add(Linear(64, 64, init = 'he_uniform'))\n",
    "model.add(BatchNorm1D(64))\n",
    "model.add(ReLU())\n",
    "\n",
    "model.add(Linear(64, 10))\n",
    "model.add(Softmax())\n",
    "\n",
    "model.finalize(loss = loss_fn, optimizer = optim_fn)"
   ]
  },
  {
   "cell_type": "code",
   "execution_count": 9,
   "id": "367bd62e",
   "metadata": {},
   "outputs": [
    {
     "name": "stderr",
     "output_type": "stream",
     "text": [
      " 12%|█████▋                                       | 1/8 [00:04<00:29,  4.23s/it]"
     ]
    },
    {
     "name": "stdout",
     "output_type": "stream",
     "text": [
      "Epoch [1]/[8]\n",
      "Training Loss: 0.13569934921764962\n",
      "Training Accuracy: 0.9586666666666667\n",
      "Validation Loss: 0.11169309520267971\n",
      "Validation Accuracy: 0.9627595846645367\n",
      "\n"
     ]
    },
    {
     "name": "stderr",
     "output_type": "stream",
     "text": [
      "\r",
      " 25%|███████████▎                                 | 2/8 [00:08<00:25,  4.24s/it]"
     ]
    },
    {
     "name": "stdout",
     "output_type": "stream",
     "text": [
      "Epoch [2]/[8]\n",
      "Training Loss: 0.09628545131003516\n",
      "Training Accuracy: 0.9710666666666666\n",
      "Validation Loss: 0.10510962293363792\n",
      "Validation Accuracy: 0.9646565495207667\n",
      "\n"
     ]
    },
    {
     "name": "stderr",
     "output_type": "stream",
     "text": [
      "\r",
      " 38%|████████████████▉                            | 3/8 [00:12<00:21,  4.27s/it]"
     ]
    },
    {
     "name": "stdout",
     "output_type": "stream",
     "text": [
      "Epoch [3]/[8]\n",
      "Training Loss: 0.07194006197944881\n",
      "Training Accuracy: 0.9790833333333333\n",
      "Validation Loss: 0.10115484986972709\n",
      "Validation Accuracy: 0.9673522364217252\n",
      "\n"
     ]
    },
    {
     "name": "stderr",
     "output_type": "stream",
     "text": [
      "\r",
      " 50%|██████████████████████▌                      | 4/8 [00:17<00:17,  4.26s/it]"
     ]
    },
    {
     "name": "stdout",
     "output_type": "stream",
     "text": [
      "Epoch [4]/[8]\n",
      "Training Loss: 0.056003416132065144\n",
      "Training Accuracy: 0.9838833333333333\n",
      "Validation Loss: 0.10537255440833716\n",
      "Validation Accuracy: 0.9661541533546326\n",
      "\n"
     ]
    },
    {
     "name": "stderr",
     "output_type": "stream",
     "text": [
      "\r",
      " 62%|████████████████████████████▏                | 5/8 [00:21<00:12,  4.26s/it]"
     ]
    },
    {
     "name": "stdout",
     "output_type": "stream",
     "text": [
      "Epoch [5]/[8]\n",
      "Training Loss: 0.0428855519648912\n",
      "Training Accuracy: 0.9879\n",
      "Validation Loss: 0.10579690793812911\n",
      "Validation Accuracy: 0.9678514376996805\n",
      "\n"
     ]
    },
    {
     "name": "stderr",
     "output_type": "stream",
     "text": [
      "\r",
      " 75%|█████████████████████████████████▊           | 6/8 [00:25<00:08,  4.27s/it]"
     ]
    },
    {
     "name": "stdout",
     "output_type": "stream",
     "text": [
      "Epoch [6]/[8]\n",
      "Training Loss: 0.03448367773533364\n",
      "Training Accuracy: 0.9902333333333333\n",
      "Validation Loss: 0.10658935904594713\n",
      "Validation Accuracy: 0.9685503194888179\n",
      "\n"
     ]
    },
    {
     "name": "stderr",
     "output_type": "stream",
     "text": [
      "\r",
      " 88%|███████████████████████████████████████▍     | 7/8 [00:29<00:04,  4.28s/it]"
     ]
    },
    {
     "name": "stdout",
     "output_type": "stream",
     "text": [
      "Epoch [7]/[8]\n",
      "Training Loss: 0.028530420824296958\n",
      "Training Accuracy: 0.9918333333333333\n",
      "Validation Loss: 0.10924012106852903\n",
      "Validation Accuracy: 0.9709464856230032\n",
      "\n"
     ]
    },
    {
     "name": "stderr",
     "output_type": "stream",
     "text": [
      "100%|█████████████████████████████████████████████| 8/8 [00:34<00:00,  4.28s/it]"
     ]
    },
    {
     "name": "stdout",
     "output_type": "stream",
     "text": [
      "Epoch [8]/[8]\n",
      "Training Loss: 0.025374716847279613\n",
      "Training Accuracy: 0.9916666666666667\n",
      "Validation Loss: 0.10720823328211312\n",
      "Validation Accuracy: 0.9716453674121406\n",
      "\n"
     ]
    },
    {
     "name": "stderr",
     "output_type": "stream",
     "text": [
      "\n"
     ]
    }
   ],
   "source": [
    "# Training function\n",
    "def train(model, loss_fn, optim_fn, n_epochs, batchesX_train, batchesY_train, batchesX_test, batchesY_test):\n",
    "    # Keeping track of training/validation metrics\n",
    "    training_losses = []\n",
    "    validation_losses = []\n",
    "    training_accuracies = []\n",
    "    validation_accuracies = []\n",
    "    epochs = []\n",
    "    \n",
    "    for epoch in tqdm(range(1, n_epochs + 1)):\n",
    "        # Cumulative metrics during training\n",
    "        train_loss_accum = 0\n",
    "        train_acc_accum = 0\n",
    "        val_loss_accum = 0\n",
    "        val_acc_accum = 0\n",
    "        for i in range(len(batchesX_train)):\n",
    "            batch_x = batchesX_train[i] # Current batch inputs\n",
    "            batch_y = batchesY_train[i] # Current batch targets\n",
    "\n",
    "            y_pred = model.forward(batch_x, training = True) # Forward pass of model, returns predictions\n",
    "            loss, _ = loss_fn.calculate(y_pred, batch_y) # Loss calculation\n",
    "            acc = np.sum(np.argmax(y_pred, axis = 1) == \\\n",
    "                             np.argmax(batch_y, axis = 1)) / BATCH_SIZE # Accuracy calculation\n",
    "\n",
    "            train_loss_accum += loss\n",
    "            train_acc_accum += acc\n",
    "\n",
    "\n",
    "            model.backward(y_pred, batch_y) # Backwards Pass (gradient calculation)\n",
    "            model.update_params() # Optimizer updates\n",
    "\n",
    "        for i in range(len(batchesX_test)): # Validation forward pass and metric calculation\n",
    "            batch_x = batchesX_test[i]\n",
    "            batch_y = batchesY_test[i]\n",
    "\n",
    "            y_pred = model.forward(batch_x, training = False)\n",
    "            loss, _ = loss_fn.calculate(y_pred, batch_y)\n",
    "            acc = np.sum(np.argmax(y_pred, axis = 1) == np.argmax(batch_y, axis = 1)) / BATCH_SIZE\n",
    "\n",
    "            val_loss_accum += loss\n",
    "            val_acc_accum += acc\n",
    "\n",
    "\n",
    "        train_batch_loss = train_loss_accum / len(batchesX_train)\n",
    "        train_batch_acc = train_acc_accum / len(batchesX_train)\n",
    "        val_batch_loss = val_loss_accum / len(batchesX_test)\n",
    "        val_batch_acc = val_acc_accum / len(batchesX_test)\n",
    "\n",
    "        training_losses.append(train_batch_loss)\n",
    "        training_accuracies.append(train_batch_acc)\n",
    "        validation_losses.append(val_batch_loss)\n",
    "        validation_accuracies.append(val_batch_acc)\n",
    "        epochs.append(epoch)\n",
    "        \n",
    "        print(\"Epoch [%s/%s]\" % (str(epoch), str(n_epochs)))\n",
    "        print(\"Training Loss: %s\" % str(train_batch_loss))\n",
    "        print(\"Training Accuracy: %s\" % str(train_batch_acc))\n",
    "        print(\"Validation Loss: %s\" % str(val_batch_loss))\n",
    "        print(\"Validation Accuracy: %s\" % str(val_batch_acc))\n",
    "        print()\n",
    "        \n",
    "    \n",
    "    \n",
    "    return np.array(epochs), np.array(training_losses), np.array(validation_losses), \\\n",
    "        np.array(training_accuracies), np.array(validation_accuracies)\n",
    "\n",
    "epochs, training_losses, validation_losses, training_accuracies, validation_accuracies = \\\n",
    "    train(model, loss_fn, optim_fn, epochs, batchesX_train, batchesY_train, batchesX_test, batchesY_test)"
   ]
  },
  {
   "cell_type": "markdown",
   "id": "58c6590b",
   "metadata": {},
   "source": [
    "## Model Prediction and Evaluation"
   ]
  },
  {
   "cell_type": "code",
   "execution_count": 10,
   "id": "808e8a84",
   "metadata": {},
   "outputs": [
    {
     "name": "stdout",
     "output_type": "stream",
     "text": [
      "4\n"
     ]
    },
    {
     "data": {
      "image/png": "[encoded data removed]",
      "text/plain": [
       "<Figure size 432x288 with 1 Axes>"
      ]
     },
     "metadata": {
      "needs_background": "light"
     },
     "output_type": "display_data"
    }
   ],
   "source": [
    "def predict(i):\n",
    "    img = X_test[i].reshape(28, 28)\n",
    "    plt.imshow(img)\n",
    "    y = model.forward(img.reshape(1, 784), training = False)\n",
    "    print(np.argmax(y))\n",
    "\n",
    "seed = random.randint(0, 10000)\n",
    "predict(seed)"
   ]
  },
  {
   "cell_type": "code",
   "execution_count": 12,
   "id": "7952dc70",
   "metadata": {},
   "outputs": [
    {
     "data": {
      "image/png": "[encoded data removed]",
      "text/plain": [
       "<Figure size 720x720 with 4 Axes>"
      ]
     },
     "metadata": {
      "needs_background": "light"
     },
     "output_type": "display_data"
    }
   ],
   "source": [
    "def plot_metrics(training_losses, validation_losses, training_accuracies, validation_accuracies):\n",
    "    fig, ax = plt.subplots(2, 2)\n",
    "    fig.set_figheight(10)\n",
    "    fig.set_figwidth(10)\n",
    "\n",
    "    ax[0][0].plot(epochs, training_losses)\n",
    "    ax[0][0].set(xlabel = 'Epochs', ylabel = 'Training Loss')\n",
    "\n",
    "    ax[0][1].plot(epochs, validation_losses)\n",
    "    ax[0][1].set(xlabel = \"Epochs\", ylabel = \"Validation Loss\")\n",
    "\n",
    "    ax[1][0].plot(epochs, training_accuracies)\n",
    "    ax[1][0].set(xlabel = \"Epochs\", ylabel = \"Training Accuracy\")\n",
    "\n",
    "    ax[1][1].plot(epochs, validation_accuracies)\n",
    "    ax[1][1].set(xlabel = \"Epochs\", ylabel = \"Validation Accuracy\")\n",
    "\n",
    "plot_metrics(training_losses, validation_losses, training_accuracies, validation_accuracies)"
   ]
  },
  {
   "cell_type": "markdown",
   "id": "ec6d2129",
   "metadata": {},
   "source": [
    "# Using Convolutional Layers"
   ]
  },
  {
   "cell_type": "markdown",
   "id": "8e8f260e",
   "metadata": {},
   "source": [
    "## Data Preprocessing"
   ]
  },
  {
   "cell_type": "code",
   "execution_count": 13,
   "id": "ccb0378e",
   "metadata": {},
   "outputs": [],
   "source": [
    "X_train, y_train, X_test, y_test = mnist.load_data('./data', download = False)\n",
    "\n",
    "n_examples = 10000\n",
    "X_train = X_train[:n_examples].reshape(-1, 1, 28, 28).astype('float64')\n",
    "X_test = X_test[:n_examples].reshape(-1, 1, 28, 28).astype('float64')\n",
    "y_train = np.eye(10)[y_train[:n_examples]].reshape(-1, 10)\n",
    "y_test = np.eye(10)[y_test[:n_examples]].reshape(-1, 10)\n",
    "\n",
    "X_train /= 255.\n",
    "X_test /= 255."
   ]
  },
  {
   "cell_type": "code",
   "execution_count": 14,
   "id": "a1fa7833",
   "metadata": {},
   "outputs": [],
   "source": [
    "BATCH_SIZE = 32\n",
    "batchesX_train, batchesY_train = make_batches(X_train, y_train, batch_size = BATCH_SIZE)\n",
    "batchesX_test, batchesY_test = make_batches(X_test, y_test, batch_size = BATCH_SIZE)"
   ]
  },
  {
   "cell_type": "markdown",
   "id": "ab834a7a",
   "metadata": {},
   "source": [
    "## Model Development and Training"
   ]
  },
  {
   "cell_type": "code",
   "execution_count": 15,
   "id": "68d06191",
   "metadata": {},
   "outputs": [],
   "source": [
    "epochs = 5\n",
    "loss_fn = CCELoss()\n",
    "optim_fn = Adam(lr = 1e-3)\n",
    "\n",
    "model = Sequential()\n",
    "\n",
    "model.add(Conv2D(1, 16, (3, 3), padding = (0, 0), stride = (1, 1), init = 'he_normal'))\n",
    "model.add(MaxPool2D(pool_size = (2, 2), stride = (2, 2)))\n",
    "model.add(BatchNorm2D(16))\n",
    "model.add(ReLU())\n",
    "model.add(Dropout(0.1))\n",
    "\n",
    "model.add(Conv2D(16, 64, (3, 3), padding = (0, 0), stride = (1, 1), init = 'he_normal'))\n",
    "model.add(MaxPool2D(pool_size = (2, 2), stride = (2, 2)))\n",
    "model.add(BatchNorm2D(64))\n",
    "model.add(ReLU())\n",
    "model.add(Dropout(0.1))\n",
    "\n",
    "model.add(Flatten())\n",
    "\n",
    "model.add(Linear(64 * 5 * 5, 64, init = 'he_normal'))\n",
    "model.add(BatchNorm1D(64))\n",
    "model.add(ReLU())\n",
    "model.add(Dropout(0.1))\n",
    "\n",
    "model.add(Linear(64, 64, init = 'he_normal'))\n",
    "model.add(BatchNorm1D(64))\n",
    "model.add(ReLU())\n",
    "model.add(Dropout(0.1))\n",
    "\n",
    "model.add(Linear(64, 10, init = 'xavier_normal'))\n",
    "model.add(Softmax())\n",
    "\n",
    "model.finalize(loss = loss_fn, optimizer = optim_fn)"
   ]
  },
  {
   "cell_type": "code",
   "execution_count": 16,
   "id": "4b74099c",
   "metadata": {},
   "outputs": [
    {
     "name": "stderr",
     "output_type": "stream",
     "text": [
      " 20%|█████████                                    | 1/5 [00:43<02:54, 43.50s/it]"
     ]
    },
    {
     "name": "stdout",
     "output_type": "stream",
     "text": [
      "Epoch [1]/[5]\n",
      "Training Loss: 0.5813174341348133\n",
      "Training Accuracy: 0.8441493610223643\n",
      "Validation Loss: 0.16905519155608156\n",
      "Validation Accuracy: 0.9528753993610224\n",
      "\n"
     ]
    },
    {
     "name": "stderr",
     "output_type": "stream",
     "text": [
      "\r",
      " 40%|██████████████████                           | 2/5 [01:28<02:13, 44.57s/it]"
     ]
    },
    {
     "name": "stdout",
     "output_type": "stream",
     "text": [
      "Epoch [2]/[5]\n",
      "Training Loss: 0.2270479710796998\n",
      "Training Accuracy: 0.93560303514377\n",
      "Validation Loss: 0.12229777803232522\n",
      "Validation Accuracy: 0.9617611821086262\n",
      "\n"
     ]
    },
    {
     "name": "stderr",
     "output_type": "stream",
     "text": [
      "\r",
      " 60%|███████████████████████████                  | 3/5 [02:16<01:31, 45.78s/it]"
     ]
    },
    {
     "name": "stdout",
     "output_type": "stream",
     "text": [
      "Epoch [3]/[5]\n",
      "Training Loss: 0.19670235756359788\n",
      "Training Accuracy: 0.9395966453674122\n",
      "Validation Loss: 0.1417613130879511\n",
      "Validation Accuracy: 0.9549720447284346\n",
      "\n"
     ]
    },
    {
     "name": "stderr",
     "output_type": "stream",
     "text": [
      "\r",
      " 80%|████████████████████████████████████         | 4/5 [03:03<00:46, 46.38s/it]"
     ]
    },
    {
     "name": "stdout",
     "output_type": "stream",
     "text": [
      "Epoch [4]/[5]\n",
      "Training Loss: 0.20373580705690167\n",
      "Training Accuracy: 0.9366014376996805\n",
      "Validation Loss: 0.17756106270253502\n",
      "Validation Accuracy: 0.9404952076677316\n",
      "\n"
     ]
    },
    {
     "name": "stderr",
     "output_type": "stream",
     "text": [
      "100%|█████████████████████████████████████████████| 5/5 [03:50<00:00, 46.15s/it]"
     ]
    },
    {
     "name": "stdout",
     "output_type": "stream",
     "text": [
      "Epoch [5]/[5]\n",
      "Training Loss: 0.24534096971650585\n",
      "Training Accuracy: 0.9207268370607029\n",
      "Validation Loss: 0.17273411200431923\n",
      "Validation Accuracy: 0.9459864217252396\n",
      "\n"
     ]
    },
    {
     "name": "stderr",
     "output_type": "stream",
     "text": [
      "\n"
     ]
    }
   ],
   "source": [
    "epochs, training_losses, validation_losses, training_accuracies, validation_accuracies = \\\n",
    "    train(model, loss_fn, optim_fn, epochs, batchesX_train, batchesY_train, batchesX_test, batchesY_test)"
   ]
  },
  {
   "cell_type": "markdown",
   "id": "134961f4",
   "metadata": {},
   "source": [
    "## Model Prediction"
   ]
  },
  {
   "cell_type": "code",
   "execution_count": 17,
   "id": "f6f53171",
   "metadata": {},
   "outputs": [
    {
     "name": "stdout",
     "output_type": "stream",
     "text": [
      "9\n"
     ]
    },
    {
     "data": {
      "image/png": "[encoded data removed]",
      "text/plain": [
       "<Figure size 432x288 with 1 Axes>"
      ]
     },
     "metadata": {
      "needs_background": "light"
     },
     "output_type": "display_data"
    }
   ],
   "source": [
    "def predict(i):\n",
    "    img = X_test[i].reshape(28, 28)\n",
    "    plt.imshow(img)\n",
    "    y = model.forward(img.reshape(1, 1, 28, 28), training = False)\n",
    "    print(np.argmax(y))\n",
    "\n",
    "seed = random.randint(0, n_examples - 1)\n",
    "predict(seed)"
   ]
  },
  {
   "cell_type": "code",
   "execution_count": 18,
   "id": "e9227c0f",
   "metadata": {},
   "outputs": [
    {
     "data": {
      "image/png": "[encoded data removed]",
      "text/plain": [
       "<Figure size 720x720 with 4 Axes>"
      ]
     },
     "metadata": {
      "needs_background": "light"
     },
     "output_type": "display_data"
    }
   ],
   "source": [
    "plot_metrics(training_losses, validation_losses, training_accuracies, validation_accuracies)"
   ]
  }
 ],
 "metadata": {
  "kernelspec": {
   "display_name": "Python 3 (ipykernel)",
   "language": "python",
   "name": "python3"
  },
  "language_info": {
   "codemirror_mode": {
    "name": "ipython",
    "version": 3
   },
   "file_extension": ".py",
   "mimetype": "text/x-python",
   "name": "python",
   "nbconvert_exporter": "python",
   "pygments_lexer": "ipython3",
   "version": "3.9.12"
  }
 },
 "nbformat": 4,
 "nbformat_minor": 5
}
